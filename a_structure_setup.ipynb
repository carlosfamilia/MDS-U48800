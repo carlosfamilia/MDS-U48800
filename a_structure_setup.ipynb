{
 "cells": [
  {
   "cell_type": "markdown",
   "metadata": {},
   "source": [
    "### Three-dimensional structure"
   ]
  },
  {
   "cell_type": "code",
   "execution_count": null,
   "metadata": {},
   "outputs": [],
   "source": [
    "# Imports\n",
    "import os\n",
    "import pubchempy as pbchm"
   ]
  },
  {
   "cell_type": "code",
   "execution_count": null,
   "metadata": {},
   "outputs": [],
   "source": [
    "# Set the working directory and change folder to it\n",
    "working_dir = '~/research/synthetic_opioids'\n",
    "os.chdir(working_dir)\n",
    "\n",
    "# Define molecule information\n",
    "cid = \"137700072\"\n",
    "path = \"U48800\"\n",
    "filename = \"U48800\"\n",
    "\n",
    "# Create the output directory if it does not exist\n",
    "os.makedirs(path, exist_ok=True)\n",
    "\n",
    "# Retrieve molecule information\n",
    "compound = pbchm.Compound.from_cid(cid)\n",
    "isomeric_smiles = compound.isomeric_smiles\n",
    "\n",
    "# Print molecule SMILES representation\n",
    "print(isomeric_smiles)"
   ]
  },
  {
   "cell_type": "code",
   "execution_count": null,
   "metadata": {},
   "outputs": [],
   "source": [
    "# Imports\n",
    "import re\n",
    "from openbabel import openbabel\n",
    "from IPython.display import display, HTML"
   ]
  },
  {
   "cell_type": "code",
   "execution_count": null,
   "metadata": {},
   "outputs": [],
   "source": [
    "# Load the input two dimensional isomer_a\n",
    "converter = openbabel.OBConversion()\n",
    "converter.SetInAndOutFormats(\"smiles\",\"mol\")\n",
    "molecule = openbabel.OBMol()\n",
    "converter.ReadString(molecule, isomeric_smiles)\n",
    "\n",
    "# Generate a 2D depiction of the molecule\n",
    "converter.SetOutFormat(\"svg\")\n",
    "converter.SetOptions(\"C\", True)\n",
    "converter.WriteFile(molecule, \"%s/%s.svg\"%(path, filename));"
   ]
  },
  {
   "cell_type": "code",
   "execution_count": null,
   "metadata": {},
   "outputs": [
    {
     "data": {
      "text/html": [
       "<div style=\"text-align: center;\"><img src=\"U48800/U48800.svg\" style=\"width:50%\"></div>"
      ],
      "text/plain": [
       "<IPython.core.display.HTML object>"
      ]
     },
     "metadata": {},
     "output_type": "display_data"
    }
   ],
   "source": [
    "# Open the SVG file and add a white background\n",
    "with open(\"%s/%s.svg\"%(path, filename), 'r+') as f:\n",
    "    content = f.read()\n",
    "    f.seek(0, 0)\n",
    "    f.write(re.sub('<svg ', '<svg style=\"background-color: white;\" ', content))\n",
    "\n",
    "# Display the SVG image\n",
    "## Define the HTML for the SVG with a larger size\n",
    "html = '<div style=\"text-align: center;\"><img src=\"{}\" style=\"width:50%\"></div>'.format('%s/%s.svg' % (path, filename))\n",
    "\n",
    "## Display the SVG\n",
    "display(HTML(html))"
   ]
  },
  {
   "cell_type": "code",
   "execution_count": null,
   "metadata": {},
   "outputs": [],
   "source": [
    "# Add hydrogens and build the initial 3D structure\n",
    "molecule.AddHydrogens()\n",
    "openbabel.OBBuilder().Build(molecule)\n",
    "\n",
    "# Change the name of the molecule identifier\n",
    "molecule.SetTitle(\"U48800\")\n",
    "\n",
    "# Rename residue name\n",
    "for atom in openbabel.OBMolAtomIter(molecule):\n",
    "    residue = atom.GetResidue()\n",
    "    if residue.GetName() == \"UNL\":  # Check if the residue name is UNL\n",
    "        residue.SetName(\"SOP\")\n",
    "\n",
    "# Save the generated structure to mol format\n",
    "converter.WriteFile(molecule, \"%s/%s.mol\"%(path, filename));"
   ]
  },
  {
   "cell_type": "code",
   "execution_count": null,
   "metadata": {},
   "outputs": [
    {
     "data": {
      "text/plain": [
       "True"
      ]
     },
     "metadata": {},
     "output_type": "display_data"
    }
   ],
   "source": [
    "# Read the generated mol file\n",
    "converter.SetInFormat(\"mol\")\n",
    "converter.ReadFile(molecule, \"%s/%s.mol\"%(path, filename))"
   ]
  },
  {
   "cell_type": "code",
   "execution_count": null,
   "metadata": {},
   "outputs": [
    {
     "name": "stdout",
     "output_type": "stream",
     "text": [
      "Current conformer:\n",
      "\n",
      "    Bond energy:                    12.49 kcal/mol\n",
      "    Angle energy:                    5.80 kcal/mol\n",
      "    Stretch bending energy:         -0.05 kcal/mol\n",
      "    Torsion energy:                 -7.77 kcal/mol\n",
      "    Out-Of-Plane bending energy:     0.01 kcal/mol\n",
      "    Van der Waals energy:          608.62 kcal/mol\n",
      "    Electrostatic energy:           -1.52 kcal/mol\n",
      "    Total energy:                  617.59 kcal/mol\n"
     ]
    }
   ],
   "source": [
    "# Create a force field\n",
    "forcefield = openbabel.OBForceField.FindForceField('mmff94')\n",
    "\n",
    "# Calculate the energy of the built conformer\n",
    "forcefield.Setup(molecule)\n",
    "print('Current conformer:\\n')\n",
    "print('    Bond energy:                 %8.2f %s' % (forcefield.E_Bond(), forcefield.GetUnit()))\n",
    "print('    Angle energy:                %8.2f %s' % (forcefield.E_Angle(), forcefield.GetUnit()))\n",
    "print('    Stretch bending energy:      %8.2f %s' % (forcefield.E_StrBnd(), forcefield.GetUnit()))\n",
    "print('    Torsion energy:              %8.2f %s' % (forcefield.E_Torsion(), forcefield.GetUnit()))\n",
    "print('    Out-Of-Plane bending energy: %8.2f %s' % (forcefield.E_OOP(), forcefield.GetUnit()))\n",
    "print('    Van der Waals energy:        %8.2f %s' % (forcefield.E_VDW(), forcefield.GetUnit()))\n",
    "print('    Electrostatic energy:        %8.2f %s' % (forcefield.E_Electrostatic(), forcefield.GetUnit()))\n",
    "print('    Total energy:                %8.2f %s' % (forcefield.Energy(), forcefield.GetUnit()))# Create a force field"
   ]
  },
  {
   "cell_type": "code",
   "execution_count": null,
   "metadata": {},
   "outputs": [],
   "source": [
    "# Imports\n",
    "import py3Dmol"
   ]
  },
  {
   "cell_type": "code",
   "execution_count": null,
   "metadata": {},
   "outputs": [
    {
     "data": {
      "application/3dmoljs_load.v0": "<div id=\"3dmolviewer_17188412476932693\"  style=\"position: relative; width: 1000px; height: 400px;\">\n        <p id=\"3dmolwarning_17188412476932693\" style=\"background-color:#ffcccc;color:black\">3Dmol.js failed to load for some reason.  Please check your browser console for error messages.<br></p>\n        </div>\n<script>\n\nvar loadScriptAsync = function(uri){\n  return new Promise((resolve, reject) => {\n    //this is to ignore the existence of requirejs amd\n    var savedexports, savedmodule;\n    if (typeof exports !== 'undefined') savedexports = exports;\n    else exports = {}\n    if (typeof module !== 'undefined') savedmodule = module;\n    else module = {}\n\n    var tag = document.createElement('script');\n    tag.src = uri;\n    tag.async = true;\n    tag.onload = () => {\n        exports = savedexports;\n        module = savedmodule;\n        resolve();\n    };\n  var firstScriptTag = document.getElementsByTagName('script')[0];\n  firstScriptTag.parentNode.insertBefore(tag, firstScriptTag);\n});\n};\n\nif(typeof $3Dmolpromise === 'undefined') {\n$3Dmolpromise = null;\n  $3Dmolpromise = loadScriptAsync('https://cdnjs.cloudflare.com/ajax/libs/3Dmol/2.1.0/3Dmol-min.js');\n}\n\nvar viewer_17188412476932693 = null;\nvar warn = document.getElementById(\"3dmolwarning_17188412476932693\");\nif(warn) {\n    warn.parentNode.removeChild(warn);\n}\n$3Dmolpromise.then(function() {\nviewer_17188412476932693 = $3Dmol.createViewer(document.getElementById(\"3dmolviewer_17188412476932693\"),{backgroundColor:\"white\"});\nviewer_17188412476932693.zoomTo();\n\tviewer_17188412476932693.setBackgroundColor(\"rgb(30,30,30)\");\n\tviewer_17188412476932693.addModel(\"COMPND    U48800 \\nAUTHOR    GENERATED BY OPEN BABEL 3.1.0\\nHETATM    1  C   UNL     1       2.529   1.121  -3.712  1.00  0.00           C  \\nHETATM    2  N   UNL     1       1.173   1.542  -3.330  1.00  0.00           N  \\nHETATM    3  C   UNL     1       0.924   2.903  -3.828  1.00  0.00           C  \\nHETATM    4  C   UNL     1       1.048   1.525  -1.866  1.00  0.00           C  \\nHETATM    5  C   UNL     1       2.397   1.756  -1.190  1.00  0.00           C  \\nHETATM    6  C   UNL     1       2.953   3.131  -1.530  1.00  0.00           C  \\nHETATM    7  C   UNL     1       1.986   4.239  -1.133  1.00  0.00           C  \\nHETATM    8  C   UNL     1       0.641   4.023  -1.809  1.00  0.00           C  \\nHETATM    9  C   UNL     1       0.073   2.647  -1.483  1.00  0.00           C  \\nHETATM   10  N   UNL     1      -0.196   2.572  -0.040  1.00  0.00           N  \\nHETATM   11  C   UNL     1       0.914   2.359   0.899  1.00  0.00           C  \\nHETATM   12  C   UNL     1      -1.570   2.709   0.465  1.00  0.00           C  \\nHETATM   13  O   UNL     1      -2.530   2.893  -0.347  1.00  0.00           O  \\nHETATM   14  C   UNL     1      -1.842   2.632   1.958  1.00  0.00           C  \\nHETATM   15  C   UNL     1      -1.391   1.280   2.486  1.00  0.00           C  \\nHETATM   16  C   UNL     1      -0.337   1.153   3.362  1.00  0.00           C  \\nHETATM   17  C   UNL     1       0.090  -0.097   3.826  1.00  0.00           C  \\nHETATM   18  C   UNL     1      -0.609  -1.198   3.354  1.00  0.00           C  \\nHETATM   19  C   UNL     1      -1.656  -1.079   2.466  1.00  0.00           C  \\nHETATM   20  C   UNL     1      -2.043   0.169   2.045  1.00  0.00           C  \\nHETATM   21 CL   UNL     1      -0.129  -2.792   3.840  1.00  0.00          Cl  \\nHETATM   22 CL   UNL     1       0.458   2.590   3.921  1.00  0.00          Cl  \\nHETATM   23  H   UNL     1       3.244   1.793  -3.285  1.00  0.00           H  \\nHETATM   24  H   UNL     1       2.619   1.133  -4.778  1.00  0.00           H  \\nHETATM   25  H   UNL     1       2.710   0.130  -3.349  1.00  0.00           H  \\nHETATM   26  H   UNL     1       1.015   2.915  -4.894  1.00  0.00           H  \\nHETATM   27  H   UNL     1      -0.062   3.209  -3.550  1.00  0.00           H  \\nHETATM   28  H   UNL     1       1.640   3.575  -3.401  1.00  0.00           H  \\nHETATM   29  H   UNL     1       0.691   0.570  -1.543  1.00  0.00           H  \\nHETATM   30  H   UNL     1       2.261   1.698  -0.130  1.00  0.00           H  \\nHETATM   31  H   UNL     1       3.087   1.008  -1.523  1.00  0.00           H  \\nHETATM   32  H   UNL     1       3.863   3.269  -0.985  1.00  0.00           H  \\nHETATM   33  H   UNL     1       3.129   3.184  -2.584  1.00  0.00           H  \\nHETATM   34  H   UNL     1       1.852   4.225  -0.072  1.00  0.00           H  \\nHETATM   35  H   UNL     1       2.387   5.184  -1.436  1.00  0.00           H  \\nHETATM   36  H   UNL     1      -0.042   4.764  -1.448  1.00  0.00           H  \\nHETATM   37  H   UNL     1       0.765   4.108  -2.868  1.00  0.00           H  \\nHETATM   38  H   UNL     1      -0.825   2.514  -2.049  1.00  0.00           H  \\nHETATM   39  H   UNL     1       0.970   3.184   1.578  1.00  0.00           H  \\nHETATM   40  H   UNL     1       0.749   1.456   1.448  1.00  0.00           H  \\nHETATM   41  H   UNL     1       1.832   2.283   0.354  1.00  0.00           H  \\nHETATM   42  H   UNL     1      -1.303   3.408   2.460  1.00  0.00           H  \\nHETATM   43  H   UNL     1      -2.890   2.752   2.136  1.00  0.00           H  \\nHETATM   44  H   UNL     1       0.909  -0.197   4.506  1.00  0.00           H  \\nHETATM   45  H   UNL     1      -2.161  -1.950   2.107  1.00  0.00           H  \\nHETATM   46  H   UNL     1      -2.864   0.270   1.366  1.00  0.00           H  \\nCONECT    1    2   23   24   25                                       \\nCONECT    2    1    3    4                                            \\nCONECT    3    2   26   27   28                                       \\nCONECT    4    5    9   29    2                                       \\nCONECT    5    4    6   30   31                                       \\nCONECT    6    5    7   32   33                                       \\nCONECT    7    6    8   34   35                                       \\nCONECT    8    7    9   36   37                                       \\nCONECT    9    4    8   38   10                                       \\nCONECT   10    9   11   12                                            \\nCONECT   11   10   39   40   41                                       \\nCONECT   12   10   13   13   14                                       \\nCONECT   13   12   12                                                 \\nCONECT   14   12   15   42   43                                       \\nCONECT   15   14   16   16   20                                       \\nCONECT   16   15   15   17   22                                       \\nCONECT   17   16   18   18   44                                       \\nCONECT   18   17   17   19   21                                       \\nCONECT   19   18   20   20   45                                       \\nCONECT   20   15   19   19   46                                       \\nCONECT   21   18                                                      \\nCONECT   22   16                                                      \\nCONECT   23    1                                                      \\nCONECT   24    1                                                      \\nCONECT   25    1                                                      \\nCONECT   26    3                                                      \\nCONECT   27    3                                                      \\nCONECT   28    3                                                      \\nCONECT   29    4                                                      \\nCONECT   30    5                                                      \\nCONECT   31    5                                                      \\nCONECT   32    6                                                      \\nCONECT   33    6                                                      \\nCONECT   34    7                                                      \\nCONECT   35    7                                                      \\nCONECT   36    8                                                      \\nCONECT   37    8                                                      \\nCONECT   38    9                                                      \\nCONECT   39   11                                                      \\nCONECT   40   11                                                      \\nCONECT   41   11                                                      \\nCONECT   42   14                                                      \\nCONECT   43   14                                                      \\nCONECT   44   17                                                      \\nCONECT   45   19                                                      \\nCONECT   46   20                                                      \\nMASTER        0    0    0    0    0    0    0    0   46    0   46    0\\nEND\\n\",\"pdb\");\n\tviewer_17188412476932693.setStyle({\"stick\": {\"radius\": 0.125}, \"sphere\": {\"radius\": 0.5}});\n\tviewer_17188412476932693.zoomTo({\"serial\": 10});\n\tviewer_17188412476932693.zoom(0.7);\n\tviewer_17188412476932693.render();\nviewer_17188412476932693.render();\n});\n</script>",
      "text/html": [
       "<div id=\"3dmolviewer_17188412476932693\"  style=\"position: relative; width: 1000px; height: 400px;\">\n",
       "        <p id=\"3dmolwarning_17188412476932693\" style=\"background-color:#ffcccc;color:black\">3Dmol.js failed to load for some reason.  Please check your browser console for error messages.<br></p>\n",
       "        </div>\n",
       "<script>\n",
       "\n",
       "var loadScriptAsync = function(uri){\n",
       "  return new Promise((resolve, reject) => {\n",
       "    //this is to ignore the existence of requirejs amd\n",
       "    var savedexports, savedmodule;\n",
       "    if (typeof exports !== 'undefined') savedexports = exports;\n",
       "    else exports = {}\n",
       "    if (typeof module !== 'undefined') savedmodule = module;\n",
       "    else module = {}\n",
       "\n",
       "    var tag = document.createElement('script');\n",
       "    tag.src = uri;\n",
       "    tag.async = true;\n",
       "    tag.onload = () => {\n",
       "        exports = savedexports;\n",
       "        module = savedmodule;\n",
       "        resolve();\n",
       "    };\n",
       "  var firstScriptTag = document.getElementsByTagName('script')[0];\n",
       "  firstScriptTag.parentNode.insertBefore(tag, firstScriptTag);\n",
       "});\n",
       "};\n",
       "\n",
       "if(typeof $3Dmolpromise === 'undefined') {\n",
       "$3Dmolpromise = null;\n",
       "  $3Dmolpromise = loadScriptAsync('https://cdnjs.cloudflare.com/ajax/libs/3Dmol/2.1.0/3Dmol-min.js');\n",
       "}\n",
       "\n",
       "var viewer_17188412476932693 = null;\n",
       "var warn = document.getElementById(\"3dmolwarning_17188412476932693\");\n",
       "if(warn) {\n",
       "    warn.parentNode.removeChild(warn);\n",
       "}\n",
       "$3Dmolpromise.then(function() {\n",
       "viewer_17188412476932693 = $3Dmol.createViewer(document.getElementById(\"3dmolviewer_17188412476932693\"),{backgroundColor:\"white\"});\n",
       "viewer_17188412476932693.zoomTo();\n",
       "\tviewer_17188412476932693.setBackgroundColor(\"rgb(30,30,30)\");\n",
       "\tviewer_17188412476932693.addModel(\"COMPND    U48800 \\nAUTHOR    GENERATED BY OPEN BABEL 3.1.0\\nHETATM    1  C   UNL     1       2.529   1.121  -3.712  1.00  0.00           C  \\nHETATM    2  N   UNL     1       1.173   1.542  -3.330  1.00  0.00           N  \\nHETATM    3  C   UNL     1       0.924   2.903  -3.828  1.00  0.00           C  \\nHETATM    4  C   UNL     1       1.048   1.525  -1.866  1.00  0.00           C  \\nHETATM    5  C   UNL     1       2.397   1.756  -1.190  1.00  0.00           C  \\nHETATM    6  C   UNL     1       2.953   3.131  -1.530  1.00  0.00           C  \\nHETATM    7  C   UNL     1       1.986   4.239  -1.133  1.00  0.00           C  \\nHETATM    8  C   UNL     1       0.641   4.023  -1.809  1.00  0.00           C  \\nHETATM    9  C   UNL     1       0.073   2.647  -1.483  1.00  0.00           C  \\nHETATM   10  N   UNL     1      -0.196   2.572  -0.040  1.00  0.00           N  \\nHETATM   11  C   UNL     1       0.914   2.359   0.899  1.00  0.00           C  \\nHETATM   12  C   UNL     1      -1.570   2.709   0.465  1.00  0.00           C  \\nHETATM   13  O   UNL     1      -2.530   2.893  -0.347  1.00  0.00           O  \\nHETATM   14  C   UNL     1      -1.842   2.632   1.958  1.00  0.00           C  \\nHETATM   15  C   UNL     1      -1.391   1.280   2.486  1.00  0.00           C  \\nHETATM   16  C   UNL     1      -0.337   1.153   3.362  1.00  0.00           C  \\nHETATM   17  C   UNL     1       0.090  -0.097   3.826  1.00  0.00           C  \\nHETATM   18  C   UNL     1      -0.609  -1.198   3.354  1.00  0.00           C  \\nHETATM   19  C   UNL     1      -1.656  -1.079   2.466  1.00  0.00           C  \\nHETATM   20  C   UNL     1      -2.043   0.169   2.045  1.00  0.00           C  \\nHETATM   21 CL   UNL     1      -0.129  -2.792   3.840  1.00  0.00          Cl  \\nHETATM   22 CL   UNL     1       0.458   2.590   3.921  1.00  0.00          Cl  \\nHETATM   23  H   UNL     1       3.244   1.793  -3.285  1.00  0.00           H  \\nHETATM   24  H   UNL     1       2.619   1.133  -4.778  1.00  0.00           H  \\nHETATM   25  H   UNL     1       2.710   0.130  -3.349  1.00  0.00           H  \\nHETATM   26  H   UNL     1       1.015   2.915  -4.894  1.00  0.00           H  \\nHETATM   27  H   UNL     1      -0.062   3.209  -3.550  1.00  0.00           H  \\nHETATM   28  H   UNL     1       1.640   3.575  -3.401  1.00  0.00           H  \\nHETATM   29  H   UNL     1       0.691   0.570  -1.543  1.00  0.00           H  \\nHETATM   30  H   UNL     1       2.261   1.698  -0.130  1.00  0.00           H  \\nHETATM   31  H   UNL     1       3.087   1.008  -1.523  1.00  0.00           H  \\nHETATM   32  H   UNL     1       3.863   3.269  -0.985  1.00  0.00           H  \\nHETATM   33  H   UNL     1       3.129   3.184  -2.584  1.00  0.00           H  \\nHETATM   34  H   UNL     1       1.852   4.225  -0.072  1.00  0.00           H  \\nHETATM   35  H   UNL     1       2.387   5.184  -1.436  1.00  0.00           H  \\nHETATM   36  H   UNL     1      -0.042   4.764  -1.448  1.00  0.00           H  \\nHETATM   37  H   UNL     1       0.765   4.108  -2.868  1.00  0.00           H  \\nHETATM   38  H   UNL     1      -0.825   2.514  -2.049  1.00  0.00           H  \\nHETATM   39  H   UNL     1       0.970   3.184   1.578  1.00  0.00           H  \\nHETATM   40  H   UNL     1       0.749   1.456   1.448  1.00  0.00           H  \\nHETATM   41  H   UNL     1       1.832   2.283   0.354  1.00  0.00           H  \\nHETATM   42  H   UNL     1      -1.303   3.408   2.460  1.00  0.00           H  \\nHETATM   43  H   UNL     1      -2.890   2.752   2.136  1.00  0.00           H  \\nHETATM   44  H   UNL     1       0.909  -0.197   4.506  1.00  0.00           H  \\nHETATM   45  H   UNL     1      -2.161  -1.950   2.107  1.00  0.00           H  \\nHETATM   46  H   UNL     1      -2.864   0.270   1.366  1.00  0.00           H  \\nCONECT    1    2   23   24   25                                       \\nCONECT    2    1    3    4                                            \\nCONECT    3    2   26   27   28                                       \\nCONECT    4    5    9   29    2                                       \\nCONECT    5    4    6   30   31                                       \\nCONECT    6    5    7   32   33                                       \\nCONECT    7    6    8   34   35                                       \\nCONECT    8    7    9   36   37                                       \\nCONECT    9    4    8   38   10                                       \\nCONECT   10    9   11   12                                            \\nCONECT   11   10   39   40   41                                       \\nCONECT   12   10   13   13   14                                       \\nCONECT   13   12   12                                                 \\nCONECT   14   12   15   42   43                                       \\nCONECT   15   14   16   16   20                                       \\nCONECT   16   15   15   17   22                                       \\nCONECT   17   16   18   18   44                                       \\nCONECT   18   17   17   19   21                                       \\nCONECT   19   18   20   20   45                                       \\nCONECT   20   15   19   19   46                                       \\nCONECT   21   18                                                      \\nCONECT   22   16                                                      \\nCONECT   23    1                                                      \\nCONECT   24    1                                                      \\nCONECT   25    1                                                      \\nCONECT   26    3                                                      \\nCONECT   27    3                                                      \\nCONECT   28    3                                                      \\nCONECT   29    4                                                      \\nCONECT   30    5                                                      \\nCONECT   31    5                                                      \\nCONECT   32    6                                                      \\nCONECT   33    6                                                      \\nCONECT   34    7                                                      \\nCONECT   35    7                                                      \\nCONECT   36    8                                                      \\nCONECT   37    8                                                      \\nCONECT   38    9                                                      \\nCONECT   39   11                                                      \\nCONECT   40   11                                                      \\nCONECT   41   11                                                      \\nCONECT   42   14                                                      \\nCONECT   43   14                                                      \\nCONECT   44   17                                                      \\nCONECT   45   19                                                      \\nCONECT   46   20                                                      \\nMASTER        0    0    0    0    0    0    0    0   46    0   46    0\\nEND\\n\",\"pdb\");\n",
       "\tviewer_17188412476932693.setStyle({\"stick\": {\"radius\": 0.125}, \"sphere\": {\"radius\": 0.5}});\n",
       "\tviewer_17188412476932693.zoomTo({\"serial\": 10});\n",
       "\tviewer_17188412476932693.zoom(0.7);\n",
       "\tviewer_17188412476932693.render();\n",
       "viewer_17188412476932693.render();\n",
       "});\n",
       "</script>"
      ]
     },
     "metadata": {},
     "output_type": "display_data"
    },
    {
     "data": {
      "text/plain": [
       "<py3Dmol.view at 0x7f4e10d4b050>"
      ]
     },
     "metadata": {},
     "output_type": "display_data"
    }
   ],
   "source": [
    "# Create a viewer\n",
    "view = py3Dmol.view(width=1000, height=400, linked=False)\n",
    "\n",
    "# Set the background color to transparent\n",
    "view.setBackgroundColor('rgb(30,30,30)')\n",
    "\n",
    "# Set converter output format to PDB\n",
    "converter.SetOutFormat(\"pdb\")\n",
    "\n",
    "# Add the first model to the first viewer\n",
    "pdb_str = converter.WriteString(molecule)\n",
    "view.addModel(pdb_str, \"pdb\", viewer=(0,0))\n",
    "view.setStyle({'stick': {'radius': 0.125}, 'sphere': {'radius': 0.5}}, viewer=(0,0))\n",
    "\n",
    "# Center the view on atom with serial 6\n",
    "view.zoomTo({'serial': 10})\n",
    "view.zoom(0.7)\n",
    "\n",
    "# Render the views\n",
    "view.render()"
   ]
  },
  {
   "cell_type": "code",
   "execution_count": null,
   "metadata": {},
   "outputs": [],
   "source": [
    "# Create a force field\n",
    "forcefield = openbabel.OBForceField.FindForceField('mmff94')\n",
    "\n",
    "# Perform a conformers search\n",
    "forcefield.Setup(molecule)\n",
    "forcefield.SystematicRotorSearch(100)\n",
    "\n",
    "# Attach discovered conformers to isomer_a object\n",
    "forcefield.GetConformers(molecule)\n",
    "\n",
    "# Save the generated structure to PDB format\n",
    "converter.WriteFile(molecule, \"%s/%s.pdb\"%(path, filename))"
   ]
  },
  {
   "cell_type": "code",
   "execution_count": null,
   "metadata": {},
   "outputs": [
    {
     "data": {
      "text/plain": [
       "True"
      ]
     },
     "metadata": {},
     "output_type": "display_data"
    }
   ],
   "source": [
    "# Read the generated PDB file\n",
    "converter.SetInFormat(\"pdb\")\n",
    "converter.ReadFile(molecule, \"%s/%s.pdb\"%(path, filename))"
   ]
  },
  {
   "cell_type": "code",
   "execution_count": null,
   "metadata": {},
   "outputs": [
    {
     "name": "stdout",
     "output_type": "stream",
     "text": [
      "Current conformer:\n",
      "\n",
      "    Bond energy:                     8.33 kcal/mol\n",
      "    Angle energy:                    9.60 kcal/mol\n",
      "    Stretch bending energy:          1.60 kcal/mol\n",
      "    Torsion energy:                 -8.82 kcal/mol\n",
      "    Out-Of-Plane bending energy:    -0.07 kcal/mol\n",
      "    Van der Waals energy:           48.34 kcal/mol\n",
      "    Electrostatic energy:           -4.11 kcal/mol\n",
      "    Total energy:                   54.86 kcal/mol\n"
     ]
    }
   ],
   "source": [
    "# Calculate the energy of the built conformer\n",
    "forcefield.Setup(molecule)\n",
    "print('Current conformer:\\n')\n",
    "print('    Bond energy:                 %8.2f %s' % (forcefield.E_Bond(), forcefield.GetUnit()))\n",
    "print('    Angle energy:                %8.2f %s' % (forcefield.E_Angle(), forcefield.GetUnit()))\n",
    "print('    Stretch bending energy:      %8.2f %s' % (forcefield.E_StrBnd(), forcefield.GetUnit()))\n",
    "print('    Torsion energy:              %8.2f %s' % (forcefield.E_Torsion(), forcefield.GetUnit()))\n",
    "print('    Out-Of-Plane bending energy: %8.2f %s' % (forcefield.E_OOP(), forcefield.GetUnit()))\n",
    "print('    Van der Waals energy:        %8.2f %s' % (forcefield.E_VDW(), forcefield.GetUnit()))\n",
    "print('    Electrostatic energy:        %8.2f %s' % (forcefield.E_Electrostatic(), forcefield.GetUnit()))\n",
    "print('    Total energy:                %8.2f %s' % (forcefield.Energy(), forcefield.GetUnit()))# Create a force field"
   ]
  },
  {
   "cell_type": "code",
   "execution_count": null,
   "metadata": {},
   "outputs": [
    {
     "data": {
      "application/3dmoljs_load.v0": "<div id=\"3dmolviewer_1718841365789079\"  style=\"position: relative; width: 1000px; height: 400px;\">\n        <p id=\"3dmolwarning_1718841365789079\" style=\"background-color:#ffcccc;color:black\">3Dmol.js failed to load for some reason.  Please check your browser console for error messages.<br></p>\n        </div>\n<script>\n\nvar loadScriptAsync = function(uri){\n  return new Promise((resolve, reject) => {\n    //this is to ignore the existence of requirejs amd\n    var savedexports, savedmodule;\n    if (typeof exports !== 'undefined') savedexports = exports;\n    else exports = {}\n    if (typeof module !== 'undefined') savedmodule = module;\n    else module = {}\n\n    var tag = document.createElement('script');\n    tag.src = uri;\n    tag.async = true;\n    tag.onload = () => {\n        exports = savedexports;\n        module = savedmodule;\n        resolve();\n    };\n  var firstScriptTag = document.getElementsByTagName('script')[0];\n  firstScriptTag.parentNode.insertBefore(tag, firstScriptTag);\n});\n};\n\nif(typeof $3Dmolpromise === 'undefined') {\n$3Dmolpromise = null;\n  $3Dmolpromise = loadScriptAsync('https://cdnjs.cloudflare.com/ajax/libs/3Dmol/2.1.0/3Dmol-min.js');\n}\n\nvar viewer_1718841365789079 = null;\nvar warn = document.getElementById(\"3dmolwarning_1718841365789079\");\nif(warn) {\n    warn.parentNode.removeChild(warn);\n}\n$3Dmolpromise.then(function() {\nviewer_1718841365789079 = $3Dmol.createViewer(document.getElementById(\"3dmolviewer_1718841365789079\"),{backgroundColor:\"white\"});\nviewer_1718841365789079.zoomTo();\n\tviewer_1718841365789079.setBackgroundColor(\"rgb(30,30,30)\");\n\tviewer_1718841365789079.addModel(\"COMPND    U48800 \\nAUTHOR    GENERATED BY OPEN BABEL 3.1.0\\nHETATM    1  C   SOP     1      -0.121   1.276  -4.010  1.00  0.00           C  \\nHETATM    2  N   SOP     1       1.185   1.495  -3.371  1.00  0.00           N  \\nHETATM    3  C   SOP     1       2.088   0.427  -3.823  1.00  0.00           C  \\nHETATM    4  C   SOP     1       1.076   1.552  -1.874  1.00  0.00           C  \\nHETATM    5  C   SOP     1       2.452   1.784  -1.200  1.00  0.00           C  \\nHETATM    6  C   SOP     1       3.072   3.127  -1.591  1.00  0.00           C  \\nHETATM    7  C   SOP     1       2.138   4.292  -1.277  1.00  0.00           C  \\nHETATM    8  C   SOP     1       0.718   4.065  -1.802  1.00  0.00           C  \\nHETATM    9  C   SOP     1       0.117   2.710  -1.355  1.00  0.00           C  \\nHETATM   10  N   SOP     1      -0.219   2.593   0.104  1.00  0.00           N  \\nHETATM   11  C   SOP     1      -0.093   3.732   1.008  1.00  0.00           C  \\nHETATM   12  C   SOP     1      -0.853   1.422   0.543  1.00  0.00           C  \\nHETATM   13  O   SOP     1      -1.232   0.551  -0.243  1.00  0.00           O  \\nHETATM   14  C   SOP     1      -1.097   1.271   2.046  1.00  0.00           C  \\nHETATM   15  C   SOP     1      -0.899  -0.147   2.535  1.00  0.00           C  \\nHETATM   16  C   SOP     1       0.342  -0.631   2.982  1.00  0.00           C  \\nHETATM   17  C   SOP     1       0.481  -1.954   3.405  1.00  0.00           C  \\nHETATM   18  C   SOP     1      -0.618  -2.809   3.367  1.00  0.00           C  \\nHETATM   19  C   SOP     1      -1.852  -2.354   2.914  1.00  0.00           C  \\nHETATM   20  C   SOP     1      -1.993  -1.030   2.500  1.00  0.00           C  \\nHETATM   21 CL   SOP     1      -0.448  -4.444   3.875  1.00  0.00          Cl  \\nHETATM   22 CL   SOP     1       1.747   0.376   3.034  1.00  0.00          Cl  \\nHETATM   23  H   SOP     1      -0.605   0.358  -3.657  1.00  0.00           H  \\nHETATM   24  H   SOP     1      -0.009   1.206  -5.098  1.00  0.00           H  \\nHETATM   25  H   SOP     1      -0.799   2.118  -3.851  1.00  0.00           H  \\nHETATM   26  H   SOP     1       2.132   0.400  -4.919  1.00  0.00           H  \\nHETATM   27  H   SOP     1       3.119   0.600  -3.502  1.00  0.00           H  \\nHETATM   28  H   SOP     1       1.768  -0.560  -3.471  1.00  0.00           H  \\nHETATM   29  H   SOP     1       0.713   0.579  -1.534  1.00  0.00           H  \\nHETATM   30  H   SOP     1       2.332   1.751  -0.110  1.00  0.00           H  \\nHETATM   31  H   SOP     1       3.153   0.975  -1.428  1.00  0.00           H  \\nHETATM   32  H   SOP     1       4.016   3.264  -1.054  1.00  0.00           H  \\nHETATM   33  H   SOP     1       3.314   3.132  -2.659  1.00  0.00           H  \\nHETATM   34  H   SOP     1       2.131   4.444  -0.196  1.00  0.00           H  \\nHETATM   35  H   SOP     1       2.544   5.215  -1.707  1.00  0.00           H  \\nHETATM   36  H   SOP     1       0.065   4.898  -1.523  1.00  0.00           H  \\nHETATM   37  H   SOP     1       0.752   4.096  -2.899  1.00  0.00           H  \\nHETATM   38  H   SOP     1      -0.860   2.610  -1.839  1.00  0.00           H  \\nHETATM   39  H   SOP     1      -0.998   3.822   1.618  1.00  0.00           H  \\nHETATM   40  H   SOP     1       0.769   3.561   1.660  1.00  0.00           H  \\nHETATM   41  H   SOP     1       0.022   4.684   0.497  1.00  0.00           H  \\nHETATM   42  H   SOP     1      -0.465   1.931   2.643  1.00  0.00           H  \\nHETATM   43  H   SOP     1      -2.128   1.592   2.241  1.00  0.00           H  \\nHETATM   44  H   SOP     1       1.442  -2.321   3.756  1.00  0.00           H  \\nHETATM   45  H   SOP     1      -2.708  -3.024   2.870  1.00  0.00           H  \\nHETATM   46  H   SOP     1      -2.957  -0.691   2.126  1.00  0.00           H  \\nCONECT    1    2   23   24   25                                       \\nCONECT    2    1    3    4                                            \\nCONECT    3    2   26   27   28                                       \\nCONECT    4    2    5    9   29                                       \\nCONECT    5    4    6   30   31                                       \\nCONECT    6    5    7   32   33                                       \\nCONECT    7    6    8   34   35                                       \\nCONECT    8    7    9   36   37                                       \\nCONECT    9    4    8   38   10                                       \\nCONECT   10    9   11   12                                            \\nCONECT   11   10   39   40   41                                       \\nCONECT   12   10   13   13   14                                       \\nCONECT   13   12   12                                                 \\nCONECT   14   12   15   42   43                                       \\nCONECT   15   14   16   16   20                                       \\nCONECT   16   15   15   17   22                                       \\nCONECT   17   16   18   18   44                                       \\nCONECT   18   17   17   19   21                                       \\nCONECT   19   18   20   20   45                                       \\nCONECT   20   15   19   19   46                                       \\nCONECT   21   18                                                      \\nCONECT   22   16                                                      \\nCONECT   23    1                                                      \\nCONECT   24    1                                                      \\nCONECT   25    1                                                      \\nCONECT   26    3                                                      \\nCONECT   27    3                                                      \\nCONECT   28    3                                                      \\nCONECT   29    4                                                      \\nCONECT   30    5                                                      \\nCONECT   31    5                                                      \\nCONECT   32    6                                                      \\nCONECT   33    6                                                      \\nCONECT   34    7                                                      \\nCONECT   35    7                                                      \\nCONECT   36    8                                                      \\nCONECT   37    8                                                      \\nCONECT   38    9                                                      \\nCONECT   39   11                                                      \\nCONECT   40   11                                                      \\nCONECT   41   11                                                      \\nCONECT   42   14                                                      \\nCONECT   43   14                                                      \\nCONECT   44   17                                                      \\nCONECT   45   19                                                      \\nCONECT   46   20                                                      \\nMASTER        0    0    0    0    0    0    0    0   46    0   46    0\\nEND\\n\",\"pdb\");\n\tviewer_1718841365789079.setStyle({\"stick\": {\"radius\": 0.125}, \"sphere\": {\"radius\": 0.5}});\n\tviewer_1718841365789079.zoomTo({\"serial\": 10});\n\tviewer_1718841365789079.zoom(0.7);\n\tviewer_1718841365789079.render();\nviewer_1718841365789079.render();\n});\n</script>",
      "text/html": [
       "<div id=\"3dmolviewer_1718841365789079\"  style=\"position: relative; width: 1000px; height: 400px;\">\n",
       "        <p id=\"3dmolwarning_1718841365789079\" style=\"background-color:#ffcccc;color:black\">3Dmol.js failed to load for some reason.  Please check your browser console for error messages.<br></p>\n",
       "        </div>\n",
       "<script>\n",
       "\n",
       "var loadScriptAsync = function(uri){\n",
       "  return new Promise((resolve, reject) => {\n",
       "    //this is to ignore the existence of requirejs amd\n",
       "    var savedexports, savedmodule;\n",
       "    if (typeof exports !== 'undefined') savedexports = exports;\n",
       "    else exports = {}\n",
       "    if (typeof module !== 'undefined') savedmodule = module;\n",
       "    else module = {}\n",
       "\n",
       "    var tag = document.createElement('script');\n",
       "    tag.src = uri;\n",
       "    tag.async = true;\n",
       "    tag.onload = () => {\n",
       "        exports = savedexports;\n",
       "        module = savedmodule;\n",
       "        resolve();\n",
       "    };\n",
       "  var firstScriptTag = document.getElementsByTagName('script')[0];\n",
       "  firstScriptTag.parentNode.insertBefore(tag, firstScriptTag);\n",
       "});\n",
       "};\n",
       "\n",
       "if(typeof $3Dmolpromise === 'undefined') {\n",
       "$3Dmolpromise = null;\n",
       "  $3Dmolpromise = loadScriptAsync('https://cdnjs.cloudflare.com/ajax/libs/3Dmol/2.1.0/3Dmol-min.js');\n",
       "}\n",
       "\n",
       "var viewer_1718841365789079 = null;\n",
       "var warn = document.getElementById(\"3dmolwarning_1718841365789079\");\n",
       "if(warn) {\n",
       "    warn.parentNode.removeChild(warn);\n",
       "}\n",
       "$3Dmolpromise.then(function() {\n",
       "viewer_1718841365789079 = $3Dmol.createViewer(document.getElementById(\"3dmolviewer_1718841365789079\"),{backgroundColor:\"white\"});\n",
       "viewer_1718841365789079.zoomTo();\n",
       "\tviewer_1718841365789079.setBackgroundColor(\"rgb(30,30,30)\");\n",
       "\tviewer_1718841365789079.addModel(\"COMPND    U48800 \\nAUTHOR    GENERATED BY OPEN BABEL 3.1.0\\nHETATM    1  C   SOP     1      -0.121   1.276  -4.010  1.00  0.00           C  \\nHETATM    2  N   SOP     1       1.185   1.495  -3.371  1.00  0.00           N  \\nHETATM    3  C   SOP     1       2.088   0.427  -3.823  1.00  0.00           C  \\nHETATM    4  C   SOP     1       1.076   1.552  -1.874  1.00  0.00           C  \\nHETATM    5  C   SOP     1       2.452   1.784  -1.200  1.00  0.00           C  \\nHETATM    6  C   SOP     1       3.072   3.127  -1.591  1.00  0.00           C  \\nHETATM    7  C   SOP     1       2.138   4.292  -1.277  1.00  0.00           C  \\nHETATM    8  C   SOP     1       0.718   4.065  -1.802  1.00  0.00           C  \\nHETATM    9  C   SOP     1       0.117   2.710  -1.355  1.00  0.00           C  \\nHETATM   10  N   SOP     1      -0.219   2.593   0.104  1.00  0.00           N  \\nHETATM   11  C   SOP     1      -0.093   3.732   1.008  1.00  0.00           C  \\nHETATM   12  C   SOP     1      -0.853   1.422   0.543  1.00  0.00           C  \\nHETATM   13  O   SOP     1      -1.232   0.551  -0.243  1.00  0.00           O  \\nHETATM   14  C   SOP     1      -1.097   1.271   2.046  1.00  0.00           C  \\nHETATM   15  C   SOP     1      -0.899  -0.147   2.535  1.00  0.00           C  \\nHETATM   16  C   SOP     1       0.342  -0.631   2.982  1.00  0.00           C  \\nHETATM   17  C   SOP     1       0.481  -1.954   3.405  1.00  0.00           C  \\nHETATM   18  C   SOP     1      -0.618  -2.809   3.367  1.00  0.00           C  \\nHETATM   19  C   SOP     1      -1.852  -2.354   2.914  1.00  0.00           C  \\nHETATM   20  C   SOP     1      -1.993  -1.030   2.500  1.00  0.00           C  \\nHETATM   21 CL   SOP     1      -0.448  -4.444   3.875  1.00  0.00          Cl  \\nHETATM   22 CL   SOP     1       1.747   0.376   3.034  1.00  0.00          Cl  \\nHETATM   23  H   SOP     1      -0.605   0.358  -3.657  1.00  0.00           H  \\nHETATM   24  H   SOP     1      -0.009   1.206  -5.098  1.00  0.00           H  \\nHETATM   25  H   SOP     1      -0.799   2.118  -3.851  1.00  0.00           H  \\nHETATM   26  H   SOP     1       2.132   0.400  -4.919  1.00  0.00           H  \\nHETATM   27  H   SOP     1       3.119   0.600  -3.502  1.00  0.00           H  \\nHETATM   28  H   SOP     1       1.768  -0.560  -3.471  1.00  0.00           H  \\nHETATM   29  H   SOP     1       0.713   0.579  -1.534  1.00  0.00           H  \\nHETATM   30  H   SOP     1       2.332   1.751  -0.110  1.00  0.00           H  \\nHETATM   31  H   SOP     1       3.153   0.975  -1.428  1.00  0.00           H  \\nHETATM   32  H   SOP     1       4.016   3.264  -1.054  1.00  0.00           H  \\nHETATM   33  H   SOP     1       3.314   3.132  -2.659  1.00  0.00           H  \\nHETATM   34  H   SOP     1       2.131   4.444  -0.196  1.00  0.00           H  \\nHETATM   35  H   SOP     1       2.544   5.215  -1.707  1.00  0.00           H  \\nHETATM   36  H   SOP     1       0.065   4.898  -1.523  1.00  0.00           H  \\nHETATM   37  H   SOP     1       0.752   4.096  -2.899  1.00  0.00           H  \\nHETATM   38  H   SOP     1      -0.860   2.610  -1.839  1.00  0.00           H  \\nHETATM   39  H   SOP     1      -0.998   3.822   1.618  1.00  0.00           H  \\nHETATM   40  H   SOP     1       0.769   3.561   1.660  1.00  0.00           H  \\nHETATM   41  H   SOP     1       0.022   4.684   0.497  1.00  0.00           H  \\nHETATM   42  H   SOP     1      -0.465   1.931   2.643  1.00  0.00           H  \\nHETATM   43  H   SOP     1      -2.128   1.592   2.241  1.00  0.00           H  \\nHETATM   44  H   SOP     1       1.442  -2.321   3.756  1.00  0.00           H  \\nHETATM   45  H   SOP     1      -2.708  -3.024   2.870  1.00  0.00           H  \\nHETATM   46  H   SOP     1      -2.957  -0.691   2.126  1.00  0.00           H  \\nCONECT    1    2   23   24   25                                       \\nCONECT    2    1    3    4                                            \\nCONECT    3    2   26   27   28                                       \\nCONECT    4    2    5    9   29                                       \\nCONECT    5    4    6   30   31                                       \\nCONECT    6    5    7   32   33                                       \\nCONECT    7    6    8   34   35                                       \\nCONECT    8    7    9   36   37                                       \\nCONECT    9    4    8   38   10                                       \\nCONECT   10    9   11   12                                            \\nCONECT   11   10   39   40   41                                       \\nCONECT   12   10   13   13   14                                       \\nCONECT   13   12   12                                                 \\nCONECT   14   12   15   42   43                                       \\nCONECT   15   14   16   16   20                                       \\nCONECT   16   15   15   17   22                                       \\nCONECT   17   16   18   18   44                                       \\nCONECT   18   17   17   19   21                                       \\nCONECT   19   18   20   20   45                                       \\nCONECT   20   15   19   19   46                                       \\nCONECT   21   18                                                      \\nCONECT   22   16                                                      \\nCONECT   23    1                                                      \\nCONECT   24    1                                                      \\nCONECT   25    1                                                      \\nCONECT   26    3                                                      \\nCONECT   27    3                                                      \\nCONECT   28    3                                                      \\nCONECT   29    4                                                      \\nCONECT   30    5                                                      \\nCONECT   31    5                                                      \\nCONECT   32    6                                                      \\nCONECT   33    6                                                      \\nCONECT   34    7                                                      \\nCONECT   35    7                                                      \\nCONECT   36    8                                                      \\nCONECT   37    8                                                      \\nCONECT   38    9                                                      \\nCONECT   39   11                                                      \\nCONECT   40   11                                                      \\nCONECT   41   11                                                      \\nCONECT   42   14                                                      \\nCONECT   43   14                                                      \\nCONECT   44   17                                                      \\nCONECT   45   19                                                      \\nCONECT   46   20                                                      \\nMASTER        0    0    0    0    0    0    0    0   46    0   46    0\\nEND\\n\",\"pdb\");\n",
       "\tviewer_1718841365789079.setStyle({\"stick\": {\"radius\": 0.125}, \"sphere\": {\"radius\": 0.5}});\n",
       "\tviewer_1718841365789079.zoomTo({\"serial\": 10});\n",
       "\tviewer_1718841365789079.zoom(0.7);\n",
       "\tviewer_1718841365789079.render();\n",
       "viewer_1718841365789079.render();\n",
       "});\n",
       "</script>"
      ]
     },
     "metadata": {},
     "output_type": "display_data"
    },
    {
     "data": {
      "text/plain": [
       "<py3Dmol.view at 0x7f4e10d49fa0>"
      ]
     },
     "metadata": {},
     "output_type": "display_data"
    }
   ],
   "source": [
    "# Create a viewer\n",
    "view = py3Dmol.view(width=1000, height=400, linked=False)\n",
    "\n",
    "# Set the background color to transparent\n",
    "view.setBackgroundColor('rgb(30,30,30)')\n",
    "\n",
    "# Set converter output format to PDB\n",
    "converter.SetOutFormat(\"pdb\")\n",
    "\n",
    "# Add the first model to the first viewer\n",
    "pdb_str = converter.WriteString(molecule)\n",
    "view.addModel(pdb_str, \"pdb\", viewer=(0,0))\n",
    "view.setStyle({'stick': {'radius': 0.125}, 'sphere': {'radius': 0.5}}, viewer=(0,0))\n",
    "\n",
    "# Center the view on atom with serial 6\n",
    "view.zoomTo({'serial': 10})\n",
    "view.zoom(0.7)\n",
    "\n",
    "# Render the views\n",
    "view.render()"
   ]
  }
 ],
 "metadata": {
  "kernelspec": {
   "display_name": "Python 3",
   "language": "python",
   "name": "python3"
  },
  "language_info": {
   "name": "python",
   "version": "3.12.3"
  }
 },
 "nbformat": 4,
 "nbformat_minor": 2
}
